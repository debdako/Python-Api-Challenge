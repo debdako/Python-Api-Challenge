{
 "cells": [
  {
   "cell_type": "code",
   "execution_count": 1,
   "id": "ed20cc6e-5e88-48ae-87c9-afda36aa8080",
   "metadata": {},
   "outputs": [
    {
     "name": "stdout",
     "output_type": "stream",
     "text": [
      "Collecting citipy\n",
      "  Downloading citipy-0.0.5.tar.gz (557 kB)\n",
      "Collecting kdtree>=0.12\n",
      "  Downloading kdtree-0.16-py2.py3-none-any.whl (7.7 kB)\n",
      "Building wheels for collected packages: citipy\n",
      "  Building wheel for citipy (setup.py): started\n",
      "  Building wheel for citipy (setup.py): finished with status 'done'\n",
      "  Created wheel for citipy: filename=citipy-0.0.5-py3-none-any.whl size=559701 sha256=7151742c10f86491c155e93889ce630d52fde087e53a3b48639547a2002b9e82\n",
      "  Stored in directory: c:\\users\\debor\\appdata\\local\\pip\\cache\\wheels\\d9\\dd\\68\\8cc0be16282b0fcae5acb7280b47d31952f203c401923a8c1e\n",
      "Successfully built citipy\n",
      "Installing collected packages: kdtree, citipy\n",
      "Successfully installed citipy-0.0.5 kdtree-0.16\n",
      "Note: you may need to restart the kernel to use updated packages.\n"
     ]
    }
   ],
   "source": [
    "pip install citipy"
   ]
  },
  {
   "cell_type": "code",
   "execution_count": 2,
   "id": "73dba6ea-631c-46e6-a8e5-55ff228b5506",
   "metadata": {},
   "outputs": [
    {
     "name": "stdout",
     "output_type": "stream",
     "text": [
      "Requirement already satisfied: geopy in c:\\users\\debor\\anaconda3\\lib\\site-packages (2.2.0)\n",
      "Requirement already satisfied: geographiclib<2,>=1.49 in c:\\users\\debor\\anaconda3\\lib\\site-packages (from geopy) (1.52)\n",
      "Note: you may need to restart the kernel to use updated packages.\n"
     ]
    }
   ],
   "source": [
    "pip install geopy"
   ]
  },
  {
   "cell_type": "code",
   "execution_count": null,
   "id": "9b83343d-b914-4f31-9ec7-de18a1a8c5e3",
   "metadata": {},
   "outputs": [],
   "source": []
  },
  {
   "cell_type": "code",
   "execution_count": 10,
   "id": "17a04e89-4a3f-431f-b418-9cd9b50c7bb4",
   "metadata": {},
   "outputs": [],
   "source": [
    "import csv \n",
    "import pandas as pd\n",
    "import numpy as np\n",
    "import math\n",
    "from geopy.geocoders import Nominatim\n",
    "\n",
    "# Range Lat&Lng\n",
    "lat_range = (-90, 90)\n",
    "lng_range = (-180, 180)\n",
    "\n",
    "# Import API key\n",
    "from api_keys import weather_api_key\n",
    "\n",
    "# Add Citipy \n",
    "from citipy import citipy\n",
    "\n",
    "input_file = \"Lat-Log.csv\" # file contains ID, Latitude, Longitude\n",
    "output_file = \"City.csv\"\n",
    "df = pd.read_csv(\"City.csv\") \n"
   ]
  },
  {
   "cell_type": "code",
   "execution_count": 11,
   "id": "f49c3980-cb7c-41dd-8310-ac1f586d4e45",
   "metadata": {},
   "outputs": [
    {
     "data": {
      "text/plain": [
       "590"
      ]
     },
     "execution_count": 11,
     "metadata": {},
     "output_type": "execute_result"
    }
   ],
   "source": [
    "# List lat_lngs & Cities\n",
    "lat_lng = []\n",
    "cities = []\n",
    "\n",
    "# Set of Random lat&lng\n",
    "lat = np.random.uniform(low=-90.000, high=90.000, size=1500)\n",
    "lng = np.random.uniform(low=-180.000, high=180.000, size=1500)\n",
    "lat_lng = zip(lat, lng)\n",
    "\n",
    "# List for lat_lngs & Cities\n",
    "lat_lng = []\n",
    "cities = []\n",
    "\n",
    "# Set of Random lat&lng Combinations\n",
    "lat = np.random.uniform(low=-90.000, high=90.000, size=1500)\n",
    "lng = np.random.uniform(low=-180.000, high=180.000, size=1500)\n",
    "lat_lng = zip(lat, lng)\n",
    "\n",
    "# Nearest City for Each lat&lng \n",
    "for lat_lng in lat_lng:\n",
    "    city = citipy.nearest_city(lat_lng[0], lat_lng[1]).city_name\n",
    "    \n",
    "    # If the City is Unique, Then Add it to a Cities List\n",
    "    if city not in cities:\n",
    "        cities.append(city)\n",
    "\n",
    "# Print the City Count to Confirm Sufficient Count\n",
    "len(cities)ntify Nearest City for Each lat, lng Combination\n",
    "for lat_lng in lat_lng:\n",
    "    city = citipy.nearest_city(lat_lng[0], lat_lng[1]).city_name\n",
    "    \n",
    "    # If the City is Unique, Then Add it to a Cities List\n",
    "    if city not in cities:\n",
    "        cities.append(city)\n",
    "\n",
    "# Print the City Count to Confirm Sufficient Count\n",
    "len(cities)"
   ]
  },
  {
   "cell_type": "code",
   "execution_count": 14,
   "id": "b85cf14f-d139-4765-9c84-8be3d93bcf4e",
   "metadata": {},
   "outputs": [
    {
     "data": {
      "text/html": [
       "<div>\n",
       "<style scoped>\n",
       "    .dataframe tbody tr th:only-of-type {\n",
       "        vertical-align: middle;\n",
       "    }\n",
       "\n",
       "    .dataframe tbody tr th {\n",
       "        vertical-align: top;\n",
       "    }\n",
       "\n",
       "    .dataframe thead th {\n",
       "        text-align: right;\n",
       "    }\n",
       "</style>\n",
       "<table border=\"1\" class=\"dataframe\">\n",
       "  <thead>\n",
       "    <tr style=\"text-align: right;\">\n",
       "      <th></th>\n",
       "      <th>City</th>\n",
       "      <th>Country</th>\n",
       "      <th>Lat</th>\n",
       "      <th>Lng</th>\n",
       "      <th>Date</th>\n",
       "      <th>Cloudiness</th>\n",
       "      <th>Humidity</th>\n",
       "      <th>Max Temp</th>\n",
       "      <th>Wind Speed</th>\n",
       "    </tr>\n",
       "  </thead>\n",
       "  <tbody>\n",
       "    <tr>\n",
       "      <th>0</th>\n",
       "      <td>punta arenas</td>\n",
       "      <td>CL</td>\n",
       "      <td>-53.150002</td>\n",
       "      <td>-70.916672</td>\n",
       "      <td>1569207600</td>\n",
       "      <td>90</td>\n",
       "      <td>84</td>\n",
       "      <td>43.97</td>\n",
       "      <td>11.34</td>\n",
       "    </tr>\n",
       "    <tr>\n",
       "      <th>1</th>\n",
       "      <td>chokurdakh</td>\n",
       "      <td>RU</td>\n",
       "      <td>70.633331</td>\n",
       "      <td>147.916672</td>\n",
       "      <td>1569207600</td>\n",
       "      <td>0</td>\n",
       "      <td>61</td>\n",
       "      <td>36.52</td>\n",
       "      <td>9.82</td>\n",
       "    </tr>\n",
       "    <tr>\n",
       "      <th>2</th>\n",
       "      <td>marienburg</td>\n",
       "      <td>SR</td>\n",
       "      <td>5.846910</td>\n",
       "      <td>-55.021591</td>\n",
       "      <td>1569207600</td>\n",
       "      <td>58</td>\n",
       "      <td>82</td>\n",
       "      <td>82.31</td>\n",
       "      <td>19.17</td>\n",
       "    </tr>\n",
       "    <tr>\n",
       "      <th>3</th>\n",
       "      <td>bernardino de campos</td>\n",
       "      <td>BR</td>\n",
       "      <td>-23.013060</td>\n",
       "      <td>-49.474171</td>\n",
       "      <td>1569207600</td>\n",
       "      <td>60</td>\n",
       "      <td>70</td>\n",
       "      <td>59.09</td>\n",
       "      <td>19.77</td>\n",
       "    </tr>\n",
       "    <tr>\n",
       "      <th>4</th>\n",
       "      <td>yantal</td>\n",
       "      <td>RU</td>\n",
       "      <td>56.847099</td>\n",
       "      <td>105.254204</td>\n",
       "      <td>1569207600</td>\n",
       "      <td>87</td>\n",
       "      <td>62</td>\n",
       "      <td>62.47</td>\n",
       "      <td>4.68</td>\n",
       "    </tr>\n",
       "    <tr>\n",
       "      <th>5</th>\n",
       "      <td>cidreira</td>\n",
       "      <td>BR</td>\n",
       "      <td>-30.181110</td>\n",
       "      <td>-50.205559</td>\n",
       "      <td>1569207600</td>\n",
       "      <td>0</td>\n",
       "      <td>62</td>\n",
       "      <td>51.17</td>\n",
       "      <td>4.43</td>\n",
       "    </tr>\n",
       "    <tr>\n",
       "      <th>6</th>\n",
       "      <td>ahipara</td>\n",
       "      <td>NZ</td>\n",
       "      <td>-35.166672</td>\n",
       "      <td>173.166672</td>\n",
       "      <td>1569207600</td>\n",
       "      <td>98</td>\n",
       "      <td>77</td>\n",
       "      <td>66.33</td>\n",
       "      <td>17.47</td>\n",
       "    </tr>\n",
       "    <tr>\n",
       "      <th>7</th>\n",
       "      <td>hermanus</td>\n",
       "      <td>ZA</td>\n",
       "      <td>-34.418701</td>\n",
       "      <td>19.234461</td>\n",
       "      <td>1569207600</td>\n",
       "      <td>33</td>\n",
       "      <td>66</td>\n",
       "      <td>55.67</td>\n",
       "      <td>8.43</td>\n",
       "    </tr>\n",
       "    <tr>\n",
       "      <th>8</th>\n",
       "      <td>hithadhoo</td>\n",
       "      <td>MV</td>\n",
       "      <td>-0.600000</td>\n",
       "      <td>73.083328</td>\n",
       "      <td>1569207600</td>\n",
       "      <td>95</td>\n",
       "      <td>74</td>\n",
       "      <td>81.95</td>\n",
       "      <td>14.97</td>\n",
       "    </tr>\n",
       "    <tr>\n",
       "      <th>9</th>\n",
       "      <td>vaini</td>\n",
       "      <td>TO</td>\n",
       "      <td>-21.200001</td>\n",
       "      <td>-175.199997</td>\n",
       "      <td>1569207600</td>\n",
       "      <td>0</td>\n",
       "      <td>65</td>\n",
       "      <td>67.51</td>\n",
       "      <td>17.74</td>\n",
       "    </tr>\n",
       "    <tr>\n",
       "      <th>10</th>\n",
       "      <td>torbay</td>\n",
       "      <td>CA</td>\n",
       "      <td>47.666592</td>\n",
       "      <td>-52.731350</td>\n",
       "      <td>1569207600</td>\n",
       "      <td>93</td>\n",
       "      <td>69</td>\n",
       "      <td>51.89</td>\n",
       "      <td>26.89</td>\n",
       "    </tr>\n",
       "    <tr>\n",
       "      <th>11</th>\n",
       "      <td>khon buri</td>\n",
       "      <td>TH</td>\n",
       "      <td>14.525410</td>\n",
       "      <td>102.245911</td>\n",
       "      <td>1569207600</td>\n",
       "      <td>100</td>\n",
       "      <td>97</td>\n",
       "      <td>76.19</td>\n",
       "      <td>4.09</td>\n",
       "    </tr>\n",
       "    <tr>\n",
       "      <th>12</th>\n",
       "      <td>upernavik</td>\n",
       "      <td>GL</td>\n",
       "      <td>72.786842</td>\n",
       "      <td>-56.154850</td>\n",
       "      <td>1569207600</td>\n",
       "      <td>100</td>\n",
       "      <td>77</td>\n",
       "      <td>38.25</td>\n",
       "      <td>6.17</td>\n",
       "    </tr>\n",
       "    <tr>\n",
       "      <th>13</th>\n",
       "      <td>arlit</td>\n",
       "      <td>NE</td>\n",
       "      <td>18.736940</td>\n",
       "      <td>7.385280</td>\n",
       "      <td>1569207600</td>\n",
       "      <td>0</td>\n",
       "      <td>12</td>\n",
       "      <td>86.81</td>\n",
       "      <td>9.95</td>\n",
       "    </tr>\n",
       "    <tr>\n",
       "      <th>14</th>\n",
       "      <td>buin</td>\n",
       "      <td>CL</td>\n",
       "      <td>-33.733330</td>\n",
       "      <td>-70.750000</td>\n",
       "      <td>1569207600</td>\n",
       "      <td>0</td>\n",
       "      <td>87</td>\n",
       "      <td>53.40</td>\n",
       "      <td>1.74</td>\n",
       "    </tr>\n",
       "  </tbody>\n",
       "</table>\n",
       "</div>"
      ],
      "text/plain": [
       "                    City Country        Lat         Lng        Date  \\\n",
       "0           punta arenas      CL -53.150002  -70.916672  1569207600   \n",
       "1             chokurdakh      RU  70.633331  147.916672  1569207600   \n",
       "2             marienburg      SR   5.846910  -55.021591  1569207600   \n",
       "3   bernardino de campos      BR -23.013060  -49.474171  1569207600   \n",
       "4                 yantal      RU  56.847099  105.254204  1569207600   \n",
       "5               cidreira      BR -30.181110  -50.205559  1569207600   \n",
       "6                ahipara      NZ -35.166672  173.166672  1569207600   \n",
       "7               hermanus      ZA -34.418701   19.234461  1569207600   \n",
       "8              hithadhoo      MV  -0.600000   73.083328  1569207600   \n",
       "9                  vaini      TO -21.200001 -175.199997  1569207600   \n",
       "10                torbay      CA  47.666592  -52.731350  1569207600   \n",
       "11             khon buri      TH  14.525410  102.245911  1569207600   \n",
       "12             upernavik      GL  72.786842  -56.154850  1569207600   \n",
       "13                 arlit      NE  18.736940    7.385280  1569207600   \n",
       "14                  buin      CL -33.733330  -70.750000  1569207600   \n",
       "\n",
       "    Cloudiness  Humidity  Max Temp  Wind Speed  \n",
       "0           90        84     43.97       11.34  \n",
       "1            0        61     36.52        9.82  \n",
       "2           58        82     82.31       19.17  \n",
       "3           60        70     59.09       19.77  \n",
       "4           87        62     62.47        4.68  \n",
       "5            0        62     51.17        4.43  \n",
       "6           98        77     66.33       17.47  \n",
       "7           33        66     55.67        8.43  \n",
       "8           95        74     81.95       14.97  \n",
       "9            0        65     67.51       17.74  \n",
       "10          93        69     51.89       26.89  \n",
       "11         100        97     76.19        4.09  \n",
       "12         100        77     38.25        6.17  \n",
       "13           0        12     86.81        9.95  \n",
       "14           0        87     53.40        1.74  "
      ]
     },
     "execution_count": 14,
     "metadata": {},
     "output_type": "execute_result"
    }
   ],
   "source": [
    "# Display the city weather data frame\n",
    "df = pd.read_csv('City.csv')\n",
    "df.head(15)"
   ]
  },
  {
   "cell_type": "code",
   "execution_count": 8,
   "id": "7369e438-e2c4-4e84-8df2-f6ae2d9e4f0a",
   "metadata": {},
   "outputs": [
    {
     "ename": "NameError",
     "evalue": "name 'city_list' is not defined",
     "output_type": "error",
     "traceback": [
      "\u001b[1;31m---------------------------------------------------------------------------\u001b[0m",
      "\u001b[1;31mNameError\u001b[0m                                 Traceback (most recent call last)",
      "Input \u001b[1;32mIn [8]\u001b[0m, in \u001b[0;36m<cell line: 9>\u001b[1;34m()\u001b[0m\n\u001b[0;32m      1\u001b[0m \u001b[38;5;66;03m# Api calls\u001b[39;00m\n\u001b[0;32m      2\u001b[0m \u001b[38;5;66;03m#url for advanced mapping using OpenWeatherMap's new OneCall API to get historical weather info by coordinates instead of \u001b[39;00m\n\u001b[0;32m      3\u001b[0m \u001b[38;5;66;03m#city names - not implemented for project initially due to setup being different\u001b[39;00m\n\u001b[1;32m   (...)\u001b[0m\n\u001b[0;32m      7\u001b[0m \n\u001b[0;32m      8\u001b[0m \u001b[38;5;66;03m#setup columns for temperature, humidity, cloudiness, and wind speed\u001b[39;00m\n\u001b[1;32m----> 9\u001b[0m \u001b[43mcity_list\u001b[49m[\u001b[38;5;124m\"\u001b[39m\u001b[38;5;124mMax Temperature (F)\u001b[39m\u001b[38;5;124m\"\u001b[39m] \u001b[38;5;241m=\u001b[39m \u001b[38;5;124m\"\u001b[39m\u001b[38;5;124m\"\u001b[39m\n\u001b[0;32m     10\u001b[0m city_list[\u001b[38;5;124m\"\u001b[39m\u001b[38;5;124mHumidity (\u001b[39m\u001b[38;5;124m%\u001b[39m\u001b[38;5;124m)\u001b[39m\u001b[38;5;124m\"\u001b[39m] \u001b[38;5;241m=\u001b[39m \u001b[38;5;124m\"\u001b[39m\u001b[38;5;124m\"\u001b[39m\n\u001b[0;32m     11\u001b[0m city_list[\u001b[38;5;124m\"\u001b[39m\u001b[38;5;124mCloudiness\u001b[39m\u001b[38;5;124m\"\u001b[39m] \u001b[38;5;241m=\u001b[39m \u001b[38;5;124m\"\u001b[39m\u001b[38;5;124m\"\u001b[39m\n",
      "\u001b[1;31mNameError\u001b[0m: name 'city_list' is not defined"
     ]
    }
   ],
   "source": [
    "# Api calls\n",
    "#setup columns for temperature, humidity, cloudiness, & wind speed\n",
    "city_list[\"Max Temperature (F)\"] = \"\"\n",
    "city_list[\"Humidity (%)\"] = \"\"\n",
    "city_list[\"Cloudiness\"] = \"\"\n",
    "city_list[\"Wind Speed (mph)\"] = \"\"\n",
    "\n",
    "#setup columns for actual lat&lng\n",
    "city_list[\"Actual Latitude\"] = \"\"\n",
    "city_list[\"Actual Longitude\"] = \"\"\n",
    "\n",
    "#setup column for country code\n",
    "city_list[\"Country\"] = \"\"\n",
    "\n",
    "#setup column for city datetime\n",
    "city_list[\"Datetime (Local)\"] = \"\"\n",
    "#note that current timezone is PST (-7:00 from GMT)\n",
    "PST_offset = 7*60*60\n",
    "\n",
    "\n",
    "base_url_current = \"http://api.openweathermap.org/data/2.5/weather\"\n",
    "params = {\"q\":city_list[\"City\"][0], \"units\":\"imperial\", \"appid\":weather_api_key}\n",
    "\n",
    "test_response = requests.get(base_url_current, params)\n",
    "json_response = test_response.json()\n",
    "# json.dumps(json_response, indent=4)\n",
    "\n",
    "\n",
    "#data into columns from json object\n",
    "city_list[\"Actual Latitude\"][0] = json_response[\"coord\"][\"lat\"]\n",
    "city_list[\"Actual Longitude\"][0] = json_response[\"coord\"][\"lon\"]\n",
    "city_list[\"Max Temperature (F)\"][0] = json_response[\"main\"][\"temp_max\"]\n",
    "city_list[\"Humidity (%)\"][0] = json_response[\"main\"][\"humidity\"]\n",
    "city_list[\"Cloudiness\"][0] = json_response[\"clouds\"][\"all\"]\n",
    "city_list[\"Wind Speed (mph)\"][0] = json_response[\"wind\"][\"speed\"]\n",
    "city_list[\"Country\"][0] = json_response[\"sys\"][\"country\"]\n",
    "#create datetime\n",
    "first_city_time = datetime.datetime.fromtimestamp(json_response[\"dt\"]+json_response[\"timezone\"]+PST_offset)\n",
    "city_list[\"Datetime (Local)\"][0] = first_city_time.strftime(\"%m/%d/%Y, %H:%M:%S\")\n",
    "\n",
    "#helper function to give the Datetime (UTC) column string\n",
    "def getTimeString(resp_json, comp_time):\n",
    "    curr_city_datetime = datetime.datetime.fromtimestamp(resp_json[\"dt\"]+resp_json[\"timezone\"]+comp_time)\n",
    "    return curr_city_datetime.strftime(\"%m/%d/%Y, %H:%M:%S\")\n",
    "\n",
    "#create function to add all info to dataframe using the above pattern \n",
    "def addColumns(pd_df, resp_json, i, comp_time):\n",
    "    pd_df[\"Actual Latitude\"][i] = resp_json[\"coord\"][\"lat\"]\n",
    "    pd_df[\"Actual Longitude\"][i] = resp_json[\"coord\"][\"lon\"]\n",
    "    pd_df[\"Max Temperature (F)\"][i] = resp_json[\"main\"][\"temp_max\"]\n",
    "    pd_df[\"Humidity (%)\"][i] = resp_json[\"main\"][\"humidity\"]\n",
    "    pd_df[\"Cloudiness\"][i] = resp_json[\"clouds\"][\"all\"]\n",
    "    pd_df[\"Wind Speed (mph)\"][i] = resp_json[\"wind\"][\"speed\"]\n",
    "    pd_df[\"Country\"][i] = resp_json[\"sys\"][\"country\"]\n",
    "    #create datetime.datetime object to give local date and time at the city of interest (need to add an offset from our \n",
    "    #computer clock set to PST and then add in the timezone shift given by the API to change from GMT)\n",
    "    #change it to a string to keep the timestamp the same in case it is examined later\n",
    "    pd_df[\"Datetime (Local)\"][i] = getTimeString(resp_json, comp_time)"
   ]
  },
  {
   "cell_type": "code",
   "execution_count": 44,
   "id": "82e01dfc-70bc-44e6-82e3-875a00b49511",
   "metadata": {},
   "outputs": [
    {
     "data": {
      "image/png": "[encoded data removed]",
      "text/plain": [
       "<Figure size 432x288 with 1 Axes>"
      ]
     },
     "metadata": {
      "needs_background": "light"
     },
     "output_type": "display_data"
    }
   ],
   "source": [
    "#Latitude vs Temperature Plot\n",
    "\n",
    "import pandas as pd\n",
    "import matplotlib.pyplot as plt\n",
    "import numpy as np\n",
    "%matplotlib inline       \n",
    "plt.scatter(x=df['Lat'], y=df['Max Temp'])\n",
    "plt.show()"
   ]
  },
  {
   "cell_type": "code",
   "execution_count": 50,
   "id": "235c77e9-b92a-49f7-b599-0bb80d5aab0d",
   "metadata": {},
   "outputs": [
    {
     "data": {
      "image/png": "[encoded data removed]",
      "text/plain": [
       "<Figure size 432x288 with 1 Axes>"
      ]
     },
     "metadata": {
      "needs_background": "light"
     },
     "output_type": "display_data"
    }
   ],
   "source": [
    "# Latitude vs Humidity Plot\n",
    "\n",
    "import pandas as pd\n",
    "import matplotlib.pyplot as plt\n",
    "import numpy as np\n",
    "%matplotlib inline       \n",
    "plt.scatter(x=df['Lat'], y=df['Humidity'], color='green', alpha=0.5)\n",
    "plt.show()"
   ]
  },
  {
   "cell_type": "code",
   "execution_count": 51,
   "id": "2b6fb059-38df-422b-b879-cce9f40023a8",
   "metadata": {
    "collapsed": true,
    "jupyter": {
     "outputs_hidden": true
    },
    "tags": []
   },
   "outputs": [
    {
     "data": {
      "image/png": "[encoded data removed]",
      "text/plain": [
       "<Figure size 432x288 with 1 Axes>"
      ]
     },
     "metadata": {
      "needs_background": "light"
     },
     "output_type": "display_data"
    }
   ],
   "source": [
    "# Latitude vs Cloudiness Plot \n",
    "\n",
    "import pandas as pd\n",
    "import matplotlib.pyplot as plt\n",
    "import numpy as np\n",
    "%matplotlib inline       \n",
    "plt.scatter(x=df['Lat'], y=df['Cloudiness'], color='yellow', alpha=0.5)\n",
    "plt.show()"
   ]
  },
  {
   "cell_type": "code",
   "execution_count": 52,
   "id": "950100d1-37c0-454c-bf59-30d3040877f3",
   "metadata": {},
   "outputs": [
    {
     "data": {
      "image/png": "[encoded data removed]",
      "text/plain": [
       "<Figure size 432x288 with 1 Axes>"
      ]
     },
     "metadata": {
      "needs_background": "light"
     },
     "output_type": "display_data"
    }
   ],
   "source": [
    "# Latitude vs Wind Speed Plot\n",
    "\n",
    "import pandas as pd\n",
    "import matplotlib.pyplot as plt\n",
    "import numpy as np\n",
    "%matplotlib inline       \n",
    "plt.scatter(x=df['Lat'], y=df['Wind Speed'], color='orange', alpha=0.5)\n",
    "plt.show()"
   ]
  },
  {
   "cell_type": "code",
   "execution_count": 53,
   "id": "68ad3233-3483-407c-bed0-98f85f53849d",
   "metadata": {},
   "outputs": [],
   "source": [
    "import pandas as pd\n"
   ]
  },
  {
   "cell_type": "code",
   "execution_count": 55,
   "id": "a6970336-03eb-4862-a821-c821f021c1a0",
   "metadata": {},
   "outputs": [
    {
     "name": "stdout",
     "output_type": "stream",
     "text": [
      "Collecting googlemapsNote: you may need to restart the kernel to use updated packages.\n",
      "  Downloading googlemaps-4.6.0.tar.gz (31 kB)\n",
      "Requirement already satisfied: requests<3.0,>=2.20.0 in c:\\users\\debor\\anaconda3\\lib\\site-packages (from googlemaps) (2.27.1)\n",
      "Requirement already satisfied: idna<4,>=2.5 in c:\\users\\debor\\anaconda3\\lib\\site-packages (from requests<3.0,>=2.20.0->googlemaps) (3.3)\n",
      "Requirement already satisfied: certifi>=2017.4.17 in c:\\users\\debor\\anaconda3\\lib\\site-packages (from requests<3.0,>=2.20.0->googlemaps) (2021.10.8)\n",
      "Requirement already satisfied: urllib3<1.27,>=1.21.1 in c:\\users\\debor\\anaconda3\\lib\\site-packages (from requests<3.0,>=2.20.0->googlemaps) (1.26.9)\n",
      "Requirement already satisfied: charset-normalizer~=2.0.0 in c:\\users\\debor\\anaconda3\\lib\\site-packages (from requests<3.0,>=2.20.0->googlemaps) (2.0.4)\n",
      "Building wheels for collected packages: googlemaps\n",
      "  Building wheel for googlemaps (setup.py): started\n",
      "  Building wheel for googlemaps (setup.py): finished with status 'done'\n",
      "  Created wheel for googlemaps: filename=googlemaps-4.6.0-py3-none-any.whl size=38554 sha256=72e6c4e40ef3b8362eb89f62fb9d294c116bcfbd8c7b1ce80fdd4080bc8f32f7\n",
      "  Stored in directory: c:\\users\\debor\\appdata\\local\\pip\\cache\\wheels\\b6\\23\\aa\\a130b53682531f8382dd06f2000001225bea7b56a99c516f87\n",
      "Successfully built googlemaps\n",
      "Installing collected packages: googlemaps\n",
      "Successfully installed googlemaps-4.6.0\n",
      "\n"
     ]
    }
   ],
   "source": [
    "pip install googlemaps"
   ]
  },
  {
   "cell_type": "code",
   "execution_count": 10,
   "id": "1a20b811-80d3-413c-8f02-13bc64740cb6",
   "metadata": {},
   "outputs": [],
   "source": [
    "# Dependencies & Setup\n",
    "import matplotlib.pyplot as plt\n",
    "import pandas as pd\n",
    "import numpy as np\n",
    "import requests\n",
    "import gmaps\n",
    "import os\n",
    "import json\n",
    "\n",
    "# Import API key\n",
    "from config import g_key"
   ]
  },
  {
   "cell_type": "code",
   "execution_count": null,
   "id": "852bebdc-8408-4518-a427-fe153b1d3fe0",
   "metadata": {},
   "outputs": [],
   "source": [
    "# Configure gmaps with API key.\n",
    "gmaps.configure(api_key=g_key)\n",
    "\n",
    "# Convert Humidity to float and store\n",
    "weather_df = weather_df.dropna()\n",
    "humidity = weather_df[\"Humidity\"].astype(float)\n",
    "# Store 'Latitude' and 'Longitude' into  locations \n",
    "locations = weather_df[[\"Latitude\", \"Longitude\"]].astype(float)\n",
    "# Create a humidity Heatmap layer\n",
    "fig = gmaps.figure()\n",
    "\n",
    "heat_layer = gmaps.heatmap_layer(locations, weights=humidity, \n",
    "                                 dissipating=False, max_intensity=max(weather_df[\"Humidity\"]),\n",
    "                                 point_radius = 2)\n",
    "\n",
    "fig.add_layer(heat_layer)\n",
    "\n",
    "fig"
   ]
  },
  {
   "cell_type": "code",
   "execution_count": null,
   "id": "c384176f-6484-4e11-bfb6-0da91ecc0573",
   "metadata": {},
   "outputs": [],
   "source": [
    "# Hotel Maps\n",
    "\n",
    "hotel_df = filtered_weather_df\n",
    "\n",
    "#dictionary to update each iteration\n",
    "params = {\n",
    "    \"radius\": 5000,\n",
    "    \"types\": \"lodging\",\n",
    "    \"key\": g_key\n",
    "}\n",
    "\n",
    "for index, row in hotel_df.iterrows():\n",
    "    # get lat, lng from df\n",
    "    lat = row[\"Latitude\"]\n",
    "    lng = row[\"Longitude\"]\n",
    "\n",
    "    # change location each iteration while leaving original params in place\n",
    "    params[\"location\"] = f\"{lat},{lng}\"\n",
    "    \n",
    "    base_url = \"https://maps.googleapis.com/maps/api/place/nearbysearch/json\"\n",
    "\n",
    "    # assemble url & make API request\n",
    "    print(f\"Retrieving Results for Index {index}: {row['City']}.\")\n",
    "    response = requests.get(base_url, params=params).json()\n",
    "    # print(json.dumps(response, indent=4, sort_keys=True))\n",
    "    # extract results\n",
    "    results = response['results']\n",
    "    \n",
    "    try:\n",
    "        print(f\"Closest hotel is {results[0]['name']}.\")\n",
    "        hotel_df.loc[index, 'Hotel Name'] = results[0]['name']\n",
    "        \n",
    "    except (KeyError, IndexError):\n",
    "        print(\"Missing field/result... skipping.\")\n",
    "        \n",
    "    print(\"------------\")"
   ]
  }
 ],
 "metadata": {
  "kernelspec": {
   "display_name": "Python 3 (ipykernel)",
   "language": "python",
   "name": "python3"
  },
  "language_info": {
   "codemirror_mode": {
    "name": "ipython",
    "version": 3
   },
   "file_extension": ".py",
   "mimetype": "text/x-python",
   "name": "python",
   "nbconvert_exporter": "python",
   "pygments_lexer": "ipython3",
   "version": "3.9.12"
  }
 },
 "nbformat": 4,
 "nbformat_minor": 5
}
